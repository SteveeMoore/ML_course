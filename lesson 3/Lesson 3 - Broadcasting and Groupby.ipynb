{
 "cells": [
  {
   "cell_type": "markdown",
   "id": "c4c7be34-20a7-4079-a2c4-45eb971150e5",
   "metadata": {},
   "source": [
    "# 1. NumPy: broadcasting"
   ]
  },
  {
   "cell_type": "markdown",
   "id": "80511e39-b053-4835-bacc-385761d7724e",
   "metadata": {},
   "source": [
    "**Broadcasting** - механизм при котором Numpy позволяет выполнять поэлементные операции между массивами разной формы, расширяя меньший по нужным осям"
   ]
  },
  {
   "cell_type": "code",
   "execution_count": 1,
   "id": "5868bdf4-8b9e-425f-bb56-50a114b9ecc7",
   "metadata": {},
   "outputs": [],
   "source": [
    "import numpy as np"
   ]
  },
  {
   "cell_type": "code",
   "execution_count": 2,
   "id": "793a7039-9c84-4b69-8c39-4f9c50248b04",
   "metadata": {},
   "outputs": [
    {
     "name": "stdout",
     "output_type": "stream",
     "text": [
      "[1 2 3]\n",
      "[[1. 1. 1.]\n",
      " [1. 1. 1.]\n",
      " [1. 1. 1.]]\n",
      "[[2. 3. 4.]\n",
      " [2. 3. 4.]\n",
      " [2. 3. 4.]]\n"
     ]
    }
   ],
   "source": [
    "a = np.array([1,2,3])\n",
    "M = np.ones((3,3))\n",
    "print(a)\n",
    "print(M)\n",
    "print(M+a)"
   ]
  },
  {
   "cell_type": "markdown",
   "id": "a468c0bc-bee4-4d9b-99df-e65d3c87f621",
   "metadata": {},
   "source": [
    "1. NumPy сравнивает размеры массивов справа налево\n",
    "2. Если размеры совпадают или один из них равен 1 - они совместимы\n",
    "3. Меньшая размерность расширяется виртуально без создания копий данных\\\n",
    "   **Применение:**\n",
    "* Центрирование данных $X-X.mean(axis=0)$\n",
    "* Применение операций со скалярами\n",
    "* Быстрое линейное преобразование\\\n",
    "  **Важно!**\n",
    "Если размерности не совместимы, то будет ошибка *ValueError*"
   ]
  },
  {
   "cell_type": "markdown",
   "id": "0a86c217-5021-40c4-8102-fbba051b845d",
   "metadata": {},
   "source": [
    "# 2. Практика с broadcasting"
   ]
  },
  {
   "cell_type": "markdown",
   "id": "a4356082-a2b5-4f6a-b092-b70a3e00b0c1",
   "metadata": {},
   "source": [
    "## 2.1 Примеры использования"
   ]
  },
  {
   "cell_type": "code",
   "execution_count": 3,
   "id": "8ff9d9bc-5517-4427-86ec-de99ee9cc2d4",
   "metadata": {},
   "outputs": [
    {
     "name": "stdout",
     "output_type": "stream",
     "text": [
      "Оригинал:\n",
      " [[6 3 2 9 2]\n",
      " [9 5 3 6 5]\n",
      " [5 1 9 3 1]\n",
      " [9 2 7 5 8]]\n",
      "Центры колонок:\n",
      " [7.25 2.75 5.25 5.75 4.  ]\n",
      "Центрированный массив:\n",
      " [[-1.25  0.25 -3.25  3.25 -2.  ]\n",
      " [ 1.75  2.25 -2.25  0.25  1.  ]\n",
      " [-2.25 -1.75  3.75 -2.75 -3.  ]\n",
      " [ 1.75 -0.75  1.75 -0.75  4.  ]]\n",
      "Новые центры колонок:\n",
      " [0. 0. 0. 0. 0.]\n"
     ]
    }
   ],
   "source": [
    "mat = np.random.randint(1,10,(4,5))\n",
    "mean_per_col = mat.mean(axis=0)\n",
    "centered = mat - mean_per_col\n",
    "new_mean_per_col = centered.mean(axis=0)\n",
    "print(\"Оригинал:\\n\", mat)\n",
    "print(\"Центры колонок:\\n\", mean_per_col)\n",
    "print(\"Центрированный массив:\\n\", centered)\n",
    "print(\"Новые центры колонок:\\n\", new_mean_per_col)"
   ]
  },
  {
   "cell_type": "code",
   "execution_count": 4,
   "id": "a7090d9c-fa44-436d-a10a-8f09ee29c78e",
   "metadata": {},
   "outputs": [
    {
     "name": "stdout",
     "output_type": "stream",
     "text": [
      "[[16 23 32 49 52]\n",
      " [19 25 33 46 55]\n",
      " [15 21 39 43 51]\n",
      " [19 22 37 45 58]]\n"
     ]
    }
   ],
   "source": [
    "row = np.array([10,20,30,40,50])\n",
    "print(mat+row)"
   ]
  },
  {
   "cell_type": "markdown",
   "id": "3bf90420-4cea-4400-9411-9cceb0cfbcbf",
   "metadata": {},
   "source": [
    "# 3. Pandas: группировка (groupby), агрегация"
   ]
  },
  {
   "cell_type": "markdown",
   "id": "54d282a9-1234-4e30-ab89-ba5576bd4f8a",
   "metadata": {},
   "source": [
    "**groupby** - метод, реализующий технику split-apply-combine\n",
    "1. *split* - разделение на группы по значениям столбца\n",
    "2. *apply* - применение функций, например sum(), mean(), count() и т.п.\n",
    "3. *combine* - объединение результата в новый DataFrame"
   ]
  },
  {
   "cell_type": "code",
   "execution_count": 5,
   "id": "55c62578-a75e-44ac-94ae-3b86e24b4298",
   "metadata": {},
   "outputs": [],
   "source": [
    "import pandas as pd"
   ]
  },
  {
   "cell_type": "markdown",
   "id": "2b5a3f00-e729-4de6-9de2-6c7c78793725",
   "metadata": {},
   "source": [
    "Определить среднее значение score на город:"
   ]
  },
  {
   "cell_type": "code",
   "execution_count": 6,
   "id": "92adfcad-0df3-4e59-b3e1-1a9e96fc69bd",
   "metadata": {},
   "outputs": [
    {
     "data": {
      "text/plain": [
       "city\n",
       "A    20.0\n",
       "B    30.0\n",
       "C    50.0\n",
       "Name: score, dtype: float64"
      ]
     },
     "execution_count": 6,
     "metadata": {},
     "output_type": "execute_result"
    }
   ],
   "source": [
    "df = pd.DataFrame({\n",
    "    'city': ['A', 'B', 'A', 'B', 'C'],\n",
    "    'score': [10, 20, 30, 40, 50],\n",
    "    'age':    [20, 30, 40, 50, 60]\n",
    "})\n",
    "mean_scores = df.groupby('city')['score'].mean()\n",
    "mean_scores"
   ]
  },
  {
   "cell_type": "markdown",
   "id": "b110d0aa-0b01-4ec6-8750-43542944a008",
   "metadata": {},
   "source": [
    "Применение нескольких агрегатов сразу"
   ]
  },
  {
   "cell_type": "code",
   "execution_count": 7,
   "id": "c5fbe6b6-429e-4421-8791-1622f6d7ccca",
   "metadata": {},
   "outputs": [
    {
     "data": {
      "text/html": [
       "<div>\n",
       "<style scoped>\n",
       "    .dataframe tbody tr th:only-of-type {\n",
       "        vertical-align: middle;\n",
       "    }\n",
       "\n",
       "    .dataframe tbody tr th {\n",
       "        vertical-align: top;\n",
       "    }\n",
       "\n",
       "    .dataframe thead tr th {\n",
       "        text-align: left;\n",
       "    }\n",
       "\n",
       "    .dataframe thead tr:last-of-type th {\n",
       "        text-align: right;\n",
       "    }\n",
       "</style>\n",
       "<table border=\"1\" class=\"dataframe\">\n",
       "  <thead>\n",
       "    <tr>\n",
       "      <th></th>\n",
       "      <th colspan=\"3\" halign=\"left\">score</th>\n",
       "      <th>age</th>\n",
       "    </tr>\n",
       "    <tr>\n",
       "      <th></th>\n",
       "      <th>mean</th>\n",
       "      <th>sum</th>\n",
       "      <th>count</th>\n",
       "      <th>mean</th>\n",
       "    </tr>\n",
       "    <tr>\n",
       "      <th>city</th>\n",
       "      <th></th>\n",
       "      <th></th>\n",
       "      <th></th>\n",
       "      <th></th>\n",
       "    </tr>\n",
       "  </thead>\n",
       "  <tbody>\n",
       "    <tr>\n",
       "      <th>A</th>\n",
       "      <td>20.0</td>\n",
       "      <td>40</td>\n",
       "      <td>2</td>\n",
       "      <td>30.0</td>\n",
       "    </tr>\n",
       "    <tr>\n",
       "      <th>B</th>\n",
       "      <td>30.0</td>\n",
       "      <td>60</td>\n",
       "      <td>2</td>\n",
       "      <td>40.0</td>\n",
       "    </tr>\n",
       "    <tr>\n",
       "      <th>C</th>\n",
       "      <td>50.0</td>\n",
       "      <td>50</td>\n",
       "      <td>1</td>\n",
       "      <td>60.0</td>\n",
       "    </tr>\n",
       "  </tbody>\n",
       "</table>\n",
       "</div>"
      ],
      "text/plain": [
       "     score             age\n",
       "      mean sum count  mean\n",
       "city                      \n",
       "A     20.0  40     2  30.0\n",
       "B     30.0  60     2  40.0\n",
       "C     50.0  50     1  60.0"
      ]
     },
     "execution_count": 7,
     "metadata": {},
     "output_type": "execute_result"
    }
   ],
   "source": [
    "agg = df.groupby('city').agg({\n",
    "    'score': ['mean','sum','count'],\n",
    "    'age': 'mean'\n",
    "})\n",
    "agg"
   ]
  },
  {
   "cell_type": "markdown",
   "id": "3750196b-d14d-4a80-8779-a948ebead64a",
   "metadata": {},
   "source": [
    "Группировка по двум столбцам"
   ]
  },
  {
   "cell_type": "code",
   "execution_count": 8,
   "id": "ca627ea1-1c54-45aa-bdb8-ad72fd5ad336",
   "metadata": {},
   "outputs": [
    {
     "data": {
      "text/plain": [
       "city  age\n",
       "A     20     10\n",
       "      40     30\n",
       "B     30     20\n",
       "      50     40\n",
       "C     60     50\n",
       "Name: score, dtype: int64"
      ]
     },
     "execution_count": 8,
     "metadata": {},
     "output_type": "execute_result"
    }
   ],
   "source": [
    "two = df.groupby(['city','age'])['score'].sum()\n",
    "two"
   ]
  },
  {
   "cell_type": "markdown",
   "id": "429a22db-a54d-4ff5-bee6-509ae570b69d",
   "metadata": {},
   "source": [
    "## 3.1 Практика с Groupby\n",
    "Задача:\n",
    "* Сгенерировать DataFrame с колонками city (из \\['X','Y','Z'\\], 200 строк), value(случайные числа 1-100), category(\\['A','B'\\])\n",
    "* Посчитать среднее и сумму value в разрезе city, category\n",
    "* Выполнить фильтрацию: оставить только группы city=Y, category = A"
   ]
  },
  {
   "cell_type": "code",
   "execution_count": 17,
   "id": "da49dfe3-478a-4113-a91f-306364d8ccf5",
   "metadata": {},
   "outputs": [
    {
     "data": {
      "text/html": [
       "<div>\n",
       "<style scoped>\n",
       "    .dataframe tbody tr th:only-of-type {\n",
       "        vertical-align: middle;\n",
       "    }\n",
       "\n",
       "    .dataframe tbody tr th {\n",
       "        vertical-align: top;\n",
       "    }\n",
       "\n",
       "    .dataframe thead th {\n",
       "        text-align: right;\n",
       "    }\n",
       "</style>\n",
       "<table border=\"1\" class=\"dataframe\">\n",
       "  <thead>\n",
       "    <tr style=\"text-align: right;\">\n",
       "      <th></th>\n",
       "      <th>city</th>\n",
       "      <th>value</th>\n",
       "      <th>category</th>\n",
       "    </tr>\n",
       "  </thead>\n",
       "  <tbody>\n",
       "    <tr>\n",
       "      <th>0</th>\n",
       "      <td>Z</td>\n",
       "      <td>52</td>\n",
       "      <td>A</td>\n",
       "    </tr>\n",
       "    <tr>\n",
       "      <th>1</th>\n",
       "      <td>X</td>\n",
       "      <td>62</td>\n",
       "      <td>B</td>\n",
       "    </tr>\n",
       "    <tr>\n",
       "      <th>2</th>\n",
       "      <td>Z</td>\n",
       "      <td>58</td>\n",
       "      <td>A</td>\n",
       "    </tr>\n",
       "    <tr>\n",
       "      <th>3</th>\n",
       "      <td>Z</td>\n",
       "      <td>52</td>\n",
       "      <td>B</td>\n",
       "    </tr>\n",
       "    <tr>\n",
       "      <th>4</th>\n",
       "      <td>X</td>\n",
       "      <td>12</td>\n",
       "      <td>A</td>\n",
       "    </tr>\n",
       "  </tbody>\n",
       "</table>\n",
       "</div>"
      ],
      "text/plain": [
       "  city  value category\n",
       "0    Z     52        A\n",
       "1    X     62        B\n",
       "2    Z     58        A\n",
       "3    Z     52        B\n",
       "4    X     12        A"
      ]
     },
     "execution_count": 17,
     "metadata": {},
     "output_type": "execute_result"
    }
   ],
   "source": [
    "cities = ['X', 'Y', 'Z']\n",
    "categories = ['A', 'B']\n",
    "n=200\n",
    "np.random.seed(42) #Для воспроизводимости\n",
    "df2 = pd.DataFrame({\n",
    "    'city': np.random.choice(cities, size=n),\n",
    "    'value': np.random.randint(1, 101, size=n),\n",
    "    'category': np.random.choice(categories, size=n)\n",
    "})\n",
    "df2.head()"
   ]
  },
  {
   "cell_type": "code",
   "execution_count": 19,
   "id": "6234bd1d-4683-4b8d-94c6-29451b04f250",
   "metadata": {},
   "outputs": [
    {
     "data": {
      "text/html": [
       "<div>\n",
       "<style scoped>\n",
       "    .dataframe tbody tr th:only-of-type {\n",
       "        vertical-align: middle;\n",
       "    }\n",
       "\n",
       "    .dataframe tbody tr th {\n",
       "        vertical-align: top;\n",
       "    }\n",
       "\n",
       "    .dataframe thead th {\n",
       "        text-align: right;\n",
       "    }\n",
       "</style>\n",
       "<table border=\"1\" class=\"dataframe\">\n",
       "  <thead>\n",
       "    <tr style=\"text-align: right;\">\n",
       "      <th></th>\n",
       "      <th></th>\n",
       "      <th>mean</th>\n",
       "      <th>sum</th>\n",
       "    </tr>\n",
       "    <tr>\n",
       "      <th>city</th>\n",
       "      <th>category</th>\n",
       "      <th></th>\n",
       "      <th></th>\n",
       "    </tr>\n",
       "  </thead>\n",
       "  <tbody>\n",
       "    <tr>\n",
       "      <th rowspan=\"2\" valign=\"top\">X</th>\n",
       "      <th>A</th>\n",
       "      <td>34.869565</td>\n",
       "      <td>802</td>\n",
       "    </tr>\n",
       "    <tr>\n",
       "      <th>B</th>\n",
       "      <td>51.837209</td>\n",
       "      <td>2229</td>\n",
       "    </tr>\n",
       "    <tr>\n",
       "      <th rowspan=\"2\" valign=\"top\">Y</th>\n",
       "      <th>A</th>\n",
       "      <td>56.750000</td>\n",
       "      <td>1589</td>\n",
       "    </tr>\n",
       "    <tr>\n",
       "      <th>B</th>\n",
       "      <td>49.636364</td>\n",
       "      <td>1638</td>\n",
       "    </tr>\n",
       "    <tr>\n",
       "      <th rowspan=\"2\" valign=\"top\">Z</th>\n",
       "      <th>A</th>\n",
       "      <td>47.307692</td>\n",
       "      <td>1845</td>\n",
       "    </tr>\n",
       "    <tr>\n",
       "      <th>B</th>\n",
       "      <td>53.852941</td>\n",
       "      <td>1831</td>\n",
       "    </tr>\n",
       "  </tbody>\n",
       "</table>\n",
       "</div>"
      ],
      "text/plain": [
       "                    mean   sum\n",
       "city category                 \n",
       "X    A         34.869565   802\n",
       "     B         51.837209  2229\n",
       "Y    A         56.750000  1589\n",
       "     B         49.636364  1638\n",
       "Z    A         47.307692  1845\n",
       "     B         53.852941  1831"
      ]
     },
     "execution_count": 19,
     "metadata": {},
     "output_type": "execute_result"
    }
   ],
   "source": [
    "aggregate_df = df2.groupby(['city','category'])['value'].agg(['mean','sum'])\n",
    "aggregate_df"
   ]
  },
  {
   "cell_type": "code",
   "execution_count": 31,
   "id": "57e8df7e-4196-43a9-90f3-9cab8dddd31d",
   "metadata": {},
   "outputs": [
    {
     "data": {
      "text/plain": [
       "mean      56.75\n",
       "sum     1589.00\n",
       "Name: (Y, A), dtype: float64"
      ]
     },
     "execution_count": 31,
     "metadata": {},
     "output_type": "execute_result"
    }
   ],
   "source": [
    "aggregate_df.xs(('Y', 'A'), drop_level=True)"
   ]
  },
  {
   "cell_type": "markdown",
   "id": "bb7c7fa4-d8fe-4876-94cd-fe17a3c189dc",
   "metadata": {},
   "source": [
    "aggregate_df.index — это **MultiIndex**, и в таком случае доступ по aggregate_df\\[\"city\"\\] выдаёт ошибку, потому что city — не столбец, а уровень индекса.\n",
    "\n",
    "**Столбец (column)**\n",
    "Это часть самих данных DataFrame.\n",
    "Доступ к столбцу — как к обычному атрибуту или через df\\[col_name\\].\n",
    "\n",
    "**Уровень MultiIndex**\n",
    "Это часть индекса, которая организует строки.\n",
    "В MultiIndex один или несколько уровней индексируют строки, но не являются столбцами внутри данных.\n",
    "\n",
    "Потому что Panda смотрит только в названия столбцов (aggregate_df.columns). В aggregate_df только \\['mean', 'sum'\\].\\\n",
    "Следовательно, aggregate_df\\[\"city\"\\] — ошибка, потому что в именах столбцов такого нет."
   ]
  },
  {
   "cell_type": "code",
   "execution_count": 29,
   "id": "da7770fe-80a7-469f-93f5-66c8aa53461b",
   "metadata": {},
   "outputs": [
    {
     "data": {
      "text/plain": [
       "mean      56.75\n",
       "sum     1589.00\n",
       "Name: (Y, A), dtype: float64"
      ]
     },
     "execution_count": 29,
     "metadata": {},
     "output_type": "execute_result"
    }
   ],
   "source": [
    "aggregate_df.loc[('Y', 'A')]"
   ]
  },
  {
   "cell_type": "markdown",
   "id": "16edea8e-0873-4aa3-98b1-78420a41b656",
   "metadata": {},
   "source": [
    "1. Возвращаемый тип и уровень индекса\n",
    "    loc\\[('Y','A')\\]\n",
    "    — использует точное соответствие полному индексу.\\\n",
    "    — Возвращает Series, но представление уровня индекса сохраняется.\\\n",
    "    — Если вставить кортеж в срез (loc\\[('Y','A'), :\\]), возвращается DataFrame.\n",
    "    \n",
    "    xs(('Y','A'))\\\n",
    "    — предназначен именно для MultiIndex, автоматически убирает уровень индекса, упрощая результат (drop_level=True по умолчанию)\\\n",
    "\n",
    "2. Поведение при drop_level\\\n",
    "    xs имеет аргумент drop_level, который по умолчанию — True.\\\n",
    "    Если указать drop_level=False, он сохранит оба уровня, возвращая DataFrame"
   ]
  }
 ],
 "metadata": {
  "kernelspec": {
   "display_name": "Python 3 (ipykernel)",
   "language": "python",
   "name": "python3"
  },
  "language_info": {
   "codemirror_mode": {
    "name": "ipython",
    "version": 3
   },
   "file_extension": ".py",
   "mimetype": "text/x-python",
   "name": "python",
   "nbconvert_exporter": "python",
   "pygments_lexer": "ipython3",
   "version": "3.12.11"
  }
 },
 "nbformat": 4,
 "nbformat_minor": 5
}
