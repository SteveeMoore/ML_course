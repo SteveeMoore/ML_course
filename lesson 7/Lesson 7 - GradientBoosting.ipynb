{
 "cells": [
  {
   "cell_type": "markdown",
   "id": "95ff4e15-b7ef-4f77-9f27-ada169982954",
   "metadata": {},
   "source": [
    "# GradienBoosting"
   ]
  },
  {
   "cell_type": "markdown",
   "id": "8c7436b9-3e3a-4459-9e2e-603cf612703d",
   "metadata": {},
   "source": [
    "## Что это такое?"
   ]
  },
  {
   "cell_type": "markdown",
   "id": "717b290d-2e43-438d-ac40-b27db40103e2",
   "metadata": {},
   "source": [
    "**Gradient Boosting** — это метод, при котором последовательно строится цепочка деревьев (или других слабых моделей), где каждое следующее дерево учится **исправлять ошибки предыдущих**.\n",
    "\n",
    "* На каждом шаге вычисляются остатки (*residuals*) — разницы между фактическим y и предсказанным.\n",
    "* Новое дерево обучается на этих остатках, добавляя предсказания с умножением на *learning rate* $ν$.\n",
    "* Итог — сумма предсказаний всех деревьев, постепенно уменьшающая ошибку.\n",
    "\n",
    "**Важно**: модель работает постепенно и чувствительна к переобучению, поэтому нужно тщательно подбирать параметры."
   ]
  },
  {
   "cell_type": "markdown",
   "id": "273c58ab-acc2-46c4-8b90-e710fa02c27c",
   "metadata": {},
   "source": [
    "## Ключевые параметры"
   ]
  },
  {
   "cell_type": "markdown",
   "id": "78164bc1-c865-4c6a-a10a-e6f4c758d12c",
   "metadata": {},
   "source": [
    "|Параметр|\tОписание|\n",
    "|--------|----------|\n",
    "|```n_estimators```|\tЧисло деревьев M — шагов бустинга|\n",
    "|```learning_rate (ν)```|\tШаг градиентного шага (обычно ≤0.1) — уменьшает вклад каждого нового дерева|\n",
    "|```max_depth```|\tМаксимальная глубина каждого дерева-жителя|\n",
    "|```subsample```| Параметр стохастичности: доля случайной выборки для каждого дерева (0.5–1)|\n",
    "|```max_features```|\tМаксимальное число признаков, рассматриваемых при разбиении|\n",
    "|```min_samples_split``` и ```min_samples_leaf```|\tМинимум данных для разбиения и для листа|"
   ]
  },
  {
   "cell_type": "markdown",
   "id": "7eb103c6-f71f-46cb-8b59-9a17d60faaaa",
   "metadata": {},
   "source": [
    "## Пример градиентного бустинга на синтетических данных"
   ]
  },
  {
   "cell_type": "code",
   "execution_count": 1,
   "id": "12fc0e65-ce7a-4b87-b08b-bd13393c5ae2",
   "metadata": {},
   "outputs": [],
   "source": [
    "from sklearn.model_selection import train_test_split\n",
    "from sklearn.ensemble import GradientBoostingRegressor\n",
    "from sklearn.metrics import mean_squared_error, r2_score\n",
    "import numpy as np\n",
    "import matplotlib.pyplot as plt"
   ]
  },
  {
   "cell_type": "code",
   "execution_count": 3,
   "id": "ebf2e4b1-2695-482e-af5d-6a0caf438aef",
   "metadata": {},
   "outputs": [],
   "source": [
    "np.random.seed(42)\n",
    "X = np.sort(5 * np.random.rand(200, 1), axis=0)\n",
    "y = np.sin(X).ravel() + np.random.normal(0, 0.2, size=X.shape[0])"
   ]
  },
  {
   "cell_type": "code",
   "execution_count": 6,
   "id": "7fba4b5b-d8a9-4496-8355-fc9972353274",
   "metadata": {},
   "outputs": [],
   "source": [
    "X_train, X_test, y_train, y_test = train_test_split(X, y, test_size=0.2, random_state=42)"
   ]
  },
  {
   "cell_type": "code",
   "execution_count": 35,
   "id": "2b1f4fb8-d708-454c-a74b-ea342bb2d984",
   "metadata": {},
   "outputs": [],
   "source": [
    "model = GradientBoostingRegressor(learning_rate=0.05, n_estimators=75, max_depth=2)\n",
    "model.fit(X_train, y_train)\n",
    "y_pred = model.predict(X_test)"
   ]
  },
  {
   "cell_type": "code",
   "execution_count": 36,
   "id": "51513f7f-afad-4e01-a8a0-888d21f80526",
   "metadata": {},
   "outputs": [
    {
     "name": "stdout",
     "output_type": "stream",
     "text": [
      "MSE: 0.053688047565698616 R2: 0.9005536931825572\n"
     ]
    }
   ],
   "source": [
    "print(\"MSE:\", mean_squared_error(y_test, y_pred), \"R2:\", r2_score(y_test, y_pred))"
   ]
  },
  {
   "cell_type": "code",
   "execution_count": 37,
   "id": "19d35ed6-99c5-4993-9b0a-bf51995b4af0",
   "metadata": {},
   "outputs": [],
   "source": [
    "X_grid = np.arange(X.min(), X.max(), 0.01)[:,np.newaxis]\n",
    "y_grid = model.predict(X_grid)"
   ]
  },
  {
   "cell_type": "code",
   "execution_count": 38,
   "id": "1498a744-f407-4500-860a-48240d06b558",
   "metadata": {},
   "outputs": [
    {
     "data": {
      "image/png": "[encoded data removed]",
      "text/plain": [
       "<Figure size 800x500 with 1 Axes>"
      ]
     },
     "metadata": {},
     "output_type": "display_data"
    }
   ],
   "source": [
    "%matplotlib inline\n",
    "plt.figure(figsize=(8,5))\n",
    "plt.scatter(X_test, y_test, color='blue')\n",
    "plt.plot(X_grid, y_grid, color='red')\n",
    "plt.title(\"Градиентный бустинг\")\n",
    "plt.show()"
   ]
  }
 ],
 "metadata": {
  "kernelspec": {
   "display_name": "Python 3 (ipykernel)",
   "language": "python",
   "name": "python3"
  },
  "language_info": {
   "codemirror_mode": {
    "name": "ipython",
    "version": 3
   },
   "file_extension": ".py",
   "mimetype": "text/x-python",
   "name": "python",
   "nbconvert_exporter": "python",
   "pygments_lexer": "ipython3",
   "version": "3.10.18"
  }
 },
 "nbformat": 4,
 "nbformat_minor": 5
}
