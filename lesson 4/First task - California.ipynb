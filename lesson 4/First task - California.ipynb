{
 "cells": [
  {
   "cell_type": "markdown",
   "id": "9e44d365-7714-476e-8cd6-acbe989e02c6",
   "metadata": {},
   "source": [
    "# Практическая задача"
   ]
  },
  {
   "cell_type": "markdown",
   "id": "611f22a1-b972-4cf6-ac44-dc2cb6ce225b",
   "metadata": {},
   "source": [
    "## Используя реальный датасет обучить модель\n",
    "1. Скачать реальный датасет California housing\n",
    "2. Рассмотреть его признаки\n",
    "3. Обучить модель на нескольких признаках\n",
    "4. Сохранить экспортировать график зависимости предсказанного от реального"
   ]
  },
  {
   "cell_type": "markdown",
   "id": "66a9d326-ca28-4b74-ad8f-6338c1e10384",
   "metadata": {},
   "source": [
    "### Обучение на одном признаке"
   ]
  },
  {
   "cell_type": "code",
   "execution_count": 53,
   "id": "bfaa941d-d455-488b-a61c-d999f99d86a2",
   "metadata": {},
   "outputs": [],
   "source": [
    "from sklearn.datasets import fetch_california_housing\n",
    "from sklearn.linear_model import LinearRegression\n",
    "from sklearn.metrics import mean_squared_error, r2_score\n",
    "from sklearn.preprocessing import StandardScaler\n",
    "from sklearn.model_selection import train_test_split\n",
    "import pandas as pd\n",
    "import numpy as np\n",
    "import matplotlib.pyplot as plt\n",
    "%matplotlib inline"
   ]
  },
  {
   "cell_type": "code",
   "execution_count": 54,
   "id": "862dfd2d-16da-436c-ab94-0081d33a92b4",
   "metadata": {},
   "outputs": [
    {
     "data": {
      "text/html": [
       "<div>\n",
       "<style scoped>\n",
       "    .dataframe tbody tr th:only-of-type {\n",
       "        vertical-align: middle;\n",
       "    }\n",
       "\n",
       "    .dataframe tbody tr th {\n",
       "        vertical-align: top;\n",
       "    }\n",
       "\n",
       "    .dataframe thead th {\n",
       "        text-align: right;\n",
       "    }\n",
       "</style>\n",
       "<table border=\"1\" class=\"dataframe\">\n",
       "  <thead>\n",
       "    <tr style=\"text-align: right;\">\n",
       "      <th></th>\n",
       "      <th>AveRooms</th>\n",
       "    </tr>\n",
       "  </thead>\n",
       "  <tbody>\n",
       "    <tr>\n",
       "      <th>0</th>\n",
       "      <td>6.984127</td>\n",
       "    </tr>\n",
       "    <tr>\n",
       "      <th>1</th>\n",
       "      <td>6.238137</td>\n",
       "    </tr>\n",
       "    <tr>\n",
       "      <th>2</th>\n",
       "      <td>8.288136</td>\n",
       "    </tr>\n",
       "    <tr>\n",
       "      <th>3</th>\n",
       "      <td>5.817352</td>\n",
       "    </tr>\n",
       "    <tr>\n",
       "      <th>4</th>\n",
       "      <td>6.281853</td>\n",
       "    </tr>\n",
       "  </tbody>\n",
       "</table>\n",
       "</div>"
      ],
      "text/plain": [
       "   AveRooms\n",
       "0  6.984127\n",
       "1  6.238137\n",
       "2  8.288136\n",
       "3  5.817352\n",
       "4  6.281853"
      ]
     },
     "execution_count": 54,
     "metadata": {},
     "output_type": "execute_result"
    }
   ],
   "source": [
    "#Загрузили данные\n",
    "housing = fetch_california_housing()\n",
    "X = pd.DataFrame(housing.data, columns=housing.feature_names)[[\"AveRooms\"]]\n",
    "y = housing.target\n",
    "X.head()"
   ]
  },
  {
   "cell_type": "code",
   "execution_count": 55,
   "id": "d3b362b6-2e08-46ea-a709-66350d9ec464",
   "metadata": {},
   "outputs": [],
   "source": [
    "#Разделяем данные на тестовую и тренировочную выборки\n",
    "X_test, X_train, y_test, y_train = train_test_split(X, y, test_size=0.2, random_state=42)"
   ]
  },
  {
   "cell_type": "code",
   "execution_count": 56,
   "id": "e6804794-5264-4733-9b2d-1613ebeaa9bb",
   "metadata": {},
   "outputs": [],
   "source": [
    "#Стандартизируем признаки, чтобы все данные имели одинаковый масштаб\n",
    "scaler = StandardScaler()\n",
    "X_train_scaled = scaler.fit_transform(X_train)\n",
    "X_test_scaled = scaler.transform(X_test)"
   ]
  },
  {
   "cell_type": "code",
   "execution_count": 57,
   "id": "017021b1-1a17-4b38-a41b-ce7799802eb7",
   "metadata": {},
   "outputs": [],
   "source": [
    "model = LinearRegression()\n",
    "model.fit(X_train_scaled, y_train)\n",
    "y_pred = model.predict(X_test_scaled)"
   ]
  },
  {
   "cell_type": "code",
   "execution_count": 58,
   "id": "9ecfe639-a881-48f9-9c6a-2126498ea35c",
   "metadata": {},
   "outputs": [
    {
     "name": "stdout",
     "output_type": "stream",
     "text": [
      "Coef: 0.14987753382504015 Intercept: 2.0550030959302323\n",
      "MSE: 1.3064814524865533 R2: 0.022664013398541183\n"
     ]
    }
   ],
   "source": [
    "print(\"Coef:\", model.coef_[0], \"Intercept:\", model.intercept_)\n",
    "print(\"MSE:\", mean_squared_error(y_test, y_pred), \"R2:\", r2_score(y_test, y_pred))"
   ]
  },
  {
   "cell_type": "code",
   "execution_count": 59,
   "id": "6fd99bee-1f2d-41a0-a072-9daefc715aa5",
   "metadata": {},
   "outputs": [
    {
     "data": {
      "image/png": "[encoded data removed]",
      "text/plain": [
       "<Figure size 640x480 with 1 Axes>"
      ]
     },
     "metadata": {},
     "output_type": "display_data"
    }
   ],
   "source": [
    "plt.scatter(X_test_scaled, y_test, color='blue')\n",
    "plt.plot(X_test_scaled, y_pred, color='red')\n",
    "plt.title('Линейная регрессия на одном признаке')\n",
    "plt.show()"
   ]
  },
  {
   "cell_type": "markdown",
   "id": "24388420-bea9-4a35-a80c-cfdcc97a63bd",
   "metadata": {},
   "source": [
    "### Обучение на всех признаках"
   ]
  },
  {
   "cell_type": "code",
   "execution_count": 73,
   "id": "969eeb62-aea5-4e9d-9776-e890002018da",
   "metadata": {},
   "outputs": [],
   "source": [
    "#Теперь берем все признаки\n",
    "X = pd.DataFrame(housing.data, columns=housing.feature_names)\n",
    "y = housing.target"
   ]
  },
  {
   "cell_type": "code",
   "execution_count": 74,
   "id": "b23b9d73-ac26-4d1b-8e91-ecbff021482b",
   "metadata": {},
   "outputs": [],
   "source": [
    "X_train, X_test, y_train, y_test = train_test_split(X, y, test_size=0.2, random_state=42)"
   ]
  },
  {
   "cell_type": "code",
   "execution_count": 75,
   "id": "2195f6ae-9355-40a9-bfd7-586e9b112324",
   "metadata": {},
   "outputs": [],
   "source": [
    "X_train_scaled = scaler.fit_transform(X_train)\n",
    "X_test_scaled = scaler.transform(X_test)"
   ]
  },
  {
   "cell_type": "code",
   "execution_count": 76,
   "id": "cee9d139-7c6a-4c70-8c48-145f64c978f0",
   "metadata": {},
   "outputs": [],
   "source": [
    "model.fit(X_train_scaled, y_train)\n",
    "y_pred = model.predict(X_test_scaled)"
   ]
  },
  {
   "cell_type": "code",
   "execution_count": 79,
   "id": "464ec1ef-2d95-4de3-ad48-548b192ed530",
   "metadata": {},
   "outputs": [
    {
     "name": "stdout",
     "output_type": "stream",
     "text": [
      "Coef:\n",
      " [ 0.85438303  0.12254624 -0.29441013  0.33925949 -0.00230772 -0.0408291\n",
      " -0.89692888 -0.86984178] \n",
      "Intercept:\n",
      " 2.0719469373788777\n",
      "MSE: 0.555891598695244 R2: 0.5757877060324511\n"
     ]
    }
   ],
   "source": [
    "print(\"Coef:\\n\", model.coef_, \"\\nIntercept:\\n\", model.intercept_)\n",
    "print(\"MSE:\", mean_squared_error(y_test, y_pred), \"R2:\", r2_score(y_test, y_pred))"
   ]
  },
  {
   "cell_type": "markdown",
   "id": "1e0adbfd-e340-41f8-9b10-8835cb5b4024",
   "metadata": {},
   "source": [
    "### Выбор необходимых признаков"
   ]
  },
  {
   "cell_type": "markdown",
   "id": "301ee7b8-ac3c-455d-bb79-b75edd7fe857",
   "metadata": {},
   "source": [
    "Следует рассмотреть мультиколлинеарность признаков и избавиться от лишних, которые могут быть избыточны\\\n",
    "Если зависимость между признаками высокая, то они представляют одну и ту же информацию."
   ]
  },
  {
   "cell_type": "code",
   "execution_count": 80,
   "id": "30f2b8a1-2fe3-4f37-8940-478aec339490",
   "metadata": {},
   "outputs": [
    {
     "data": {
      "text/html": [
       "<div>\n",
       "<style scoped>\n",
       "    .dataframe tbody tr th:only-of-type {\n",
       "        vertical-align: middle;\n",
       "    }\n",
       "\n",
       "    .dataframe tbody tr th {\n",
       "        vertical-align: top;\n",
       "    }\n",
       "\n",
       "    .dataframe thead th {\n",
       "        text-align: right;\n",
       "    }\n",
       "</style>\n",
       "<table border=\"1\" class=\"dataframe\">\n",
       "  <thead>\n",
       "    <tr style=\"text-align: right;\">\n",
       "      <th></th>\n",
       "      <th>MedInc</th>\n",
       "      <th>HouseAge</th>\n",
       "      <th>AveRooms</th>\n",
       "      <th>AveBedrms</th>\n",
       "      <th>Population</th>\n",
       "      <th>AveOccup</th>\n",
       "      <th>Latitude</th>\n",
       "      <th>Longitude</th>\n",
       "    </tr>\n",
       "  </thead>\n",
       "  <tbody>\n",
       "    <tr>\n",
       "      <th>MedInc</th>\n",
       "      <td>1.000000</td>\n",
       "      <td>-0.119034</td>\n",
       "      <td>0.326895</td>\n",
       "      <td>-0.062040</td>\n",
       "      <td>0.004834</td>\n",
       "      <td>0.018766</td>\n",
       "      <td>-0.079809</td>\n",
       "      <td>-0.015176</td>\n",
       "    </tr>\n",
       "    <tr>\n",
       "      <th>HouseAge</th>\n",
       "      <td>-0.119034</td>\n",
       "      <td>1.000000</td>\n",
       "      <td>-0.153277</td>\n",
       "      <td>-0.077747</td>\n",
       "      <td>-0.296244</td>\n",
       "      <td>0.013191</td>\n",
       "      <td>0.011173</td>\n",
       "      <td>-0.108197</td>\n",
       "    </tr>\n",
       "    <tr>\n",
       "      <th>AveRooms</th>\n",
       "      <td>0.326895</td>\n",
       "      <td>-0.153277</td>\n",
       "      <td>1.000000</td>\n",
       "      <td>0.847621</td>\n",
       "      <td>-0.072213</td>\n",
       "      <td>-0.004852</td>\n",
       "      <td>0.106389</td>\n",
       "      <td>-0.027540</td>\n",
       "    </tr>\n",
       "    <tr>\n",
       "      <th>AveBedrms</th>\n",
       "      <td>-0.062040</td>\n",
       "      <td>-0.077747</td>\n",
       "      <td>0.847621</td>\n",
       "      <td>1.000000</td>\n",
       "      <td>-0.066197</td>\n",
       "      <td>-0.006181</td>\n",
       "      <td>0.069721</td>\n",
       "      <td>0.013344</td>\n",
       "    </tr>\n",
       "    <tr>\n",
       "      <th>Population</th>\n",
       "      <td>0.004834</td>\n",
       "      <td>-0.296244</td>\n",
       "      <td>-0.072213</td>\n",
       "      <td>-0.066197</td>\n",
       "      <td>1.000000</td>\n",
       "      <td>0.069863</td>\n",
       "      <td>-0.108785</td>\n",
       "      <td>0.099773</td>\n",
       "    </tr>\n",
       "    <tr>\n",
       "      <th>AveOccup</th>\n",
       "      <td>0.018766</td>\n",
       "      <td>0.013191</td>\n",
       "      <td>-0.004852</td>\n",
       "      <td>-0.006181</td>\n",
       "      <td>0.069863</td>\n",
       "      <td>1.000000</td>\n",
       "      <td>0.002366</td>\n",
       "      <td>0.002476</td>\n",
       "    </tr>\n",
       "    <tr>\n",
       "      <th>Latitude</th>\n",
       "      <td>-0.079809</td>\n",
       "      <td>0.011173</td>\n",
       "      <td>0.106389</td>\n",
       "      <td>0.069721</td>\n",
       "      <td>-0.108785</td>\n",
       "      <td>0.002366</td>\n",
       "      <td>1.000000</td>\n",
       "      <td>-0.924664</td>\n",
       "    </tr>\n",
       "    <tr>\n",
       "      <th>Longitude</th>\n",
       "      <td>-0.015176</td>\n",
       "      <td>-0.108197</td>\n",
       "      <td>-0.027540</td>\n",
       "      <td>0.013344</td>\n",
       "      <td>0.099773</td>\n",
       "      <td>0.002476</td>\n",
       "      <td>-0.924664</td>\n",
       "      <td>1.000000</td>\n",
       "    </tr>\n",
       "  </tbody>\n",
       "</table>\n",
       "</div>"
      ],
      "text/plain": [
       "              MedInc  HouseAge  AveRooms  AveBedrms  Population  AveOccup  Latitude  Longitude\n",
       "MedInc      1.000000 -0.119034  0.326895  -0.062040    0.004834  0.018766 -0.079809  -0.015176\n",
       "HouseAge   -0.119034  1.000000 -0.153277  -0.077747   -0.296244  0.013191  0.011173  -0.108197\n",
       "AveRooms    0.326895 -0.153277  1.000000   0.847621   -0.072213 -0.004852  0.106389  -0.027540\n",
       "AveBedrms  -0.062040 -0.077747  0.847621   1.000000   -0.066197 -0.006181  0.069721   0.013344\n",
       "Population  0.004834 -0.296244 -0.072213  -0.066197    1.000000  0.069863 -0.108785   0.099773\n",
       "AveOccup    0.018766  0.013191 -0.004852  -0.006181    0.069863  1.000000  0.002366   0.002476\n",
       "Latitude   -0.079809  0.011173  0.106389   0.069721   -0.108785  0.002366  1.000000  -0.924664\n",
       "Longitude  -0.015176 -0.108197 -0.027540   0.013344    0.099773  0.002476 -0.924664   1.000000"
      ]
     },
     "execution_count": 80,
     "metadata": {},
     "output_type": "execute_result"
    }
   ],
   "source": [
    "corr_matrix = X.corr()\n",
    "corr_matrix"
   ]
  },
  {
   "cell_type": "code",
   "execution_count": 83,
   "id": "f95627b0-0b1c-40fb-83ab-07ea6452350b",
   "metadata": {},
   "outputs": [
    {
     "data": {
      "text/html": [
       "<div>\n",
       "<style scoped>\n",
       "    .dataframe tbody tr th:only-of-type {\n",
       "        vertical-align: middle;\n",
       "    }\n",
       "\n",
       "    .dataframe tbody tr th {\n",
       "        vertical-align: top;\n",
       "    }\n",
       "\n",
       "    .dataframe thead th {\n",
       "        text-align: right;\n",
       "    }\n",
       "</style>\n",
       "<table border=\"1\" class=\"dataframe\">\n",
       "  <thead>\n",
       "    <tr style=\"text-align: right;\">\n",
       "      <th></th>\n",
       "      <th>Feature 1</th>\n",
       "      <th>Feature 2</th>\n",
       "      <th>Correlation</th>\n",
       "    </tr>\n",
       "  </thead>\n",
       "  <tbody>\n",
       "    <tr>\n",
       "      <th>0</th>\n",
       "      <td>AveRooms</td>\n",
       "      <td>AveBedrms</td>\n",
       "      <td>0.847621</td>\n",
       "    </tr>\n",
       "    <tr>\n",
       "      <th>1</th>\n",
       "      <td>AveBedrms</td>\n",
       "      <td>AveRooms</td>\n",
       "      <td>0.847621</td>\n",
       "    </tr>\n",
       "    <tr>\n",
       "      <th>2</th>\n",
       "      <td>Latitude</td>\n",
       "      <td>Longitude</td>\n",
       "      <td>-0.924664</td>\n",
       "    </tr>\n",
       "    <tr>\n",
       "      <th>3</th>\n",
       "      <td>Longitude</td>\n",
       "      <td>Latitude</td>\n",
       "      <td>-0.924664</td>\n",
       "    </tr>\n",
       "  </tbody>\n",
       "</table>\n",
       "</div>"
      ],
      "text/plain": [
       "   Feature 1  Feature 2  Correlation\n",
       "0   AveRooms  AveBedrms     0.847621\n",
       "1  AveBedrms   AveRooms     0.847621\n",
       "2   Latitude  Longitude    -0.924664\n",
       "3  Longitude   Latitude    -0.924664"
      ]
     },
     "execution_count": 83,
     "metadata": {},
     "output_type": "execute_result"
    }
   ],
   "source": [
    "high_corr_features = [(col1 , col2, corr_matrix.loc[col1,col2]) \n",
    "                      for col1 in corr_matrix.columns \n",
    "                      for col2 in corr_matrix.columns\n",
    "                      if col1!=col2 and abs(corr_matrix.loc[col1,col2])>0.8]\n",
    "collineary_df = pd.DataFrame(high_corr_features, columns=[\"Feature 1\", \"Feature 2\", \"Correlation\"])\n",
    "collineary_df"
   ]
  },
  {
   "cell_type": "markdown",
   "id": "858263fd-d1c8-487a-a582-142e4df3f00d",
   "metadata": {},
   "source": [
    "Рассмотрим так же и фактор увеличения дисперсии. \\\n",
    "Простой пример:\\\n",
    "Если хочется посмотреть на сколько высоко пригнут шарики, но если шарики связаны, то влияние одного будет сказываться на результаты другого"
   ]
  },
  {
   "cell_type": "code",
   "execution_count": 86,
   "id": "28a1f6c9-bae4-406a-9fa2-e5df41a140b2",
   "metadata": {},
   "outputs": [
    {
     "data": {
      "text/html": [
       "<div>\n",
       "<style scoped>\n",
       "    .dataframe tbody tr th:only-of-type {\n",
       "        vertical-align: middle;\n",
       "    }\n",
       "\n",
       "    .dataframe tbody tr th {\n",
       "        vertical-align: top;\n",
       "    }\n",
       "\n",
       "    .dataframe thead th {\n",
       "        text-align: right;\n",
       "    }\n",
       "</style>\n",
       "<table border=\"1\" class=\"dataframe\">\n",
       "  <thead>\n",
       "    <tr style=\"text-align: right;\">\n",
       "      <th></th>\n",
       "      <th>Feature</th>\n",
       "      <th>VIF</th>\n",
       "    </tr>\n",
       "  </thead>\n",
       "  <tbody>\n",
       "    <tr>\n",
       "      <th>0</th>\n",
       "      <td>MedInc</td>\n",
       "      <td>11.511140</td>\n",
       "    </tr>\n",
       "    <tr>\n",
       "      <th>1</th>\n",
       "      <td>HouseAge</td>\n",
       "      <td>7.195917</td>\n",
       "    </tr>\n",
       "    <tr>\n",
       "      <th>2</th>\n",
       "      <td>AveRooms</td>\n",
       "      <td>45.993601</td>\n",
       "    </tr>\n",
       "    <tr>\n",
       "      <th>3</th>\n",
       "      <td>AveBedrms</td>\n",
       "      <td>43.590314</td>\n",
       "    </tr>\n",
       "    <tr>\n",
       "      <th>4</th>\n",
       "      <td>Population</td>\n",
       "      <td>2.935745</td>\n",
       "    </tr>\n",
       "    <tr>\n",
       "      <th>5</th>\n",
       "      <td>AveOccup</td>\n",
       "      <td>1.095243</td>\n",
       "    </tr>\n",
       "    <tr>\n",
       "      <th>6</th>\n",
       "      <td>Latitude</td>\n",
       "      <td>559.874071</td>\n",
       "    </tr>\n",
       "    <tr>\n",
       "      <th>7</th>\n",
       "      <td>Longitude</td>\n",
       "      <td>633.711654</td>\n",
       "    </tr>\n",
       "  </tbody>\n",
       "</table>\n",
       "</div>"
      ],
      "text/plain": [
       "      Feature         VIF\n",
       "0      MedInc   11.511140\n",
       "1    HouseAge    7.195917\n",
       "2    AveRooms   45.993601\n",
       "3   AveBedrms   43.590314\n",
       "4  Population    2.935745\n",
       "5    AveOccup    1.095243\n",
       "6    Latitude  559.874071\n",
       "7   Longitude  633.711654"
      ]
     },
     "execution_count": 86,
     "metadata": {},
     "output_type": "execute_result"
    }
   ],
   "source": [
    "from statsmodels.stats.outliers_influence import variance_inflation_factor\n",
    "\n",
    "vif_data = pd.DataFrame()\n",
    "vif_data[\"Feature\"] = X.columns\n",
    "vif_data[\"VIF\"] = [variance_inflation_factor(X.values, i) for i in range(X.shape[1])]\n",
    "vif_data"
   ]
  },
  {
   "cell_type": "markdown",
   "id": "40e8f0f4-05db-4e43-ba1d-232f76b0eb23",
   "metadata": {},
   "source": [
    "Отсюда можно сделать вывод, что избыточными признаками могут быть AveBedrms и Longitude. Убирать следует по одному\\\n",
    "Возможно, что MedInc тоже, но судя по низкой корреляции с другими признаками, его вероятно можно оставить"
   ]
  },
  {
   "cell_type": "code",
   "execution_count": 100,
   "id": "265ffd89-dcdb-4802-8820-9efd28d3d686",
   "metadata": {},
   "outputs": [
    {
     "data": {
      "text/html": [
       "<div>\n",
       "<style scoped>\n",
       "    .dataframe tbody tr th:only-of-type {\n",
       "        vertical-align: middle;\n",
       "    }\n",
       "\n",
       "    .dataframe tbody tr th {\n",
       "        vertical-align: top;\n",
       "    }\n",
       "\n",
       "    .dataframe thead th {\n",
       "        text-align: right;\n",
       "    }\n",
       "</style>\n",
       "<table border=\"1\" class=\"dataframe\">\n",
       "  <thead>\n",
       "    <tr style=\"text-align: right;\">\n",
       "      <th></th>\n",
       "      <th>MedInc</th>\n",
       "      <th>HouseAge</th>\n",
       "      <th>AveRooms</th>\n",
       "      <th>Population</th>\n",
       "      <th>AveOccup</th>\n",
       "      <th>Latitude</th>\n",
       "      <th>Longitude</th>\n",
       "    </tr>\n",
       "  </thead>\n",
       "  <tbody>\n",
       "    <tr>\n",
       "      <th>0</th>\n",
       "      <td>8.3252</td>\n",
       "      <td>41.0</td>\n",
       "      <td>6.984127</td>\n",
       "      <td>322.0</td>\n",
       "      <td>2.555556</td>\n",
       "      <td>37.88</td>\n",
       "      <td>-122.23</td>\n",
       "    </tr>\n",
       "    <tr>\n",
       "      <th>1</th>\n",
       "      <td>8.3014</td>\n",
       "      <td>21.0</td>\n",
       "      <td>6.238137</td>\n",
       "      <td>2401.0</td>\n",
       "      <td>2.109842</td>\n",
       "      <td>37.86</td>\n",
       "      <td>-122.22</td>\n",
       "    </tr>\n",
       "    <tr>\n",
       "      <th>2</th>\n",
       "      <td>7.2574</td>\n",
       "      <td>52.0</td>\n",
       "      <td>8.288136</td>\n",
       "      <td>496.0</td>\n",
       "      <td>2.802260</td>\n",
       "      <td>37.85</td>\n",
       "      <td>-122.24</td>\n",
       "    </tr>\n",
       "    <tr>\n",
       "      <th>3</th>\n",
       "      <td>5.6431</td>\n",
       "      <td>52.0</td>\n",
       "      <td>5.817352</td>\n",
       "      <td>558.0</td>\n",
       "      <td>2.547945</td>\n",
       "      <td>37.85</td>\n",
       "      <td>-122.25</td>\n",
       "    </tr>\n",
       "    <tr>\n",
       "      <th>4</th>\n",
       "      <td>3.8462</td>\n",
       "      <td>52.0</td>\n",
       "      <td>6.281853</td>\n",
       "      <td>565.0</td>\n",
       "      <td>2.181467</td>\n",
       "      <td>37.85</td>\n",
       "      <td>-122.25</td>\n",
       "    </tr>\n",
       "    <tr>\n",
       "      <th>...</th>\n",
       "      <td>...</td>\n",
       "      <td>...</td>\n",
       "      <td>...</td>\n",
       "      <td>...</td>\n",
       "      <td>...</td>\n",
       "      <td>...</td>\n",
       "      <td>...</td>\n",
       "    </tr>\n",
       "    <tr>\n",
       "      <th>20635</th>\n",
       "      <td>1.5603</td>\n",
       "      <td>25.0</td>\n",
       "      <td>5.045455</td>\n",
       "      <td>845.0</td>\n",
       "      <td>2.560606</td>\n",
       "      <td>39.48</td>\n",
       "      <td>-121.09</td>\n",
       "    </tr>\n",
       "    <tr>\n",
       "      <th>20636</th>\n",
       "      <td>2.5568</td>\n",
       "      <td>18.0</td>\n",
       "      <td>6.114035</td>\n",
       "      <td>356.0</td>\n",
       "      <td>3.122807</td>\n",
       "      <td>39.49</td>\n",
       "      <td>-121.21</td>\n",
       "    </tr>\n",
       "    <tr>\n",
       "      <th>20637</th>\n",
       "      <td>1.7000</td>\n",
       "      <td>17.0</td>\n",
       "      <td>5.205543</td>\n",
       "      <td>1007.0</td>\n",
       "      <td>2.325635</td>\n",
       "      <td>39.43</td>\n",
       "      <td>-121.22</td>\n",
       "    </tr>\n",
       "    <tr>\n",
       "      <th>20638</th>\n",
       "      <td>1.8672</td>\n",
       "      <td>18.0</td>\n",
       "      <td>5.329513</td>\n",
       "      <td>741.0</td>\n",
       "      <td>2.123209</td>\n",
       "      <td>39.43</td>\n",
       "      <td>-121.32</td>\n",
       "    </tr>\n",
       "    <tr>\n",
       "      <th>20639</th>\n",
       "      <td>2.3886</td>\n",
       "      <td>16.0</td>\n",
       "      <td>5.254717</td>\n",
       "      <td>1387.0</td>\n",
       "      <td>2.616981</td>\n",
       "      <td>39.37</td>\n",
       "      <td>-121.24</td>\n",
       "    </tr>\n",
       "  </tbody>\n",
       "</table>\n",
       "<p>20640 rows × 7 columns</p>\n",
       "</div>"
      ],
      "text/plain": [
       "       MedInc  HouseAge  AveRooms  Population  AveOccup  Latitude  Longitude\n",
       "0      8.3252      41.0  6.984127       322.0  2.555556     37.88    -122.23\n",
       "1      8.3014      21.0  6.238137      2401.0  2.109842     37.86    -122.22\n",
       "2      7.2574      52.0  8.288136       496.0  2.802260     37.85    -122.24\n",
       "3      5.6431      52.0  5.817352       558.0  2.547945     37.85    -122.25\n",
       "4      3.8462      52.0  6.281853       565.0  2.181467     37.85    -122.25\n",
       "...       ...       ...       ...         ...       ...       ...        ...\n",
       "20635  1.5603      25.0  5.045455       845.0  2.560606     39.48    -121.09\n",
       "20636  2.5568      18.0  6.114035       356.0  3.122807     39.49    -121.21\n",
       "20637  1.7000      17.0  5.205543      1007.0  2.325635     39.43    -121.22\n",
       "20638  1.8672      18.0  5.329513       741.0  2.123209     39.43    -121.32\n",
       "20639  2.3886      16.0  5.254717      1387.0  2.616981     39.37    -121.24\n",
       "\n",
       "[20640 rows x 7 columns]"
      ]
     },
     "execution_count": 100,
     "metadata": {},
     "output_type": "execute_result"
    }
   ],
   "source": [
    "X = pd.DataFrame(housing.data, columns=housing.feature_names).drop(columns=[\"AveBedrms\"])\n",
    "X"
   ]
  },
  {
   "cell_type": "code",
   "execution_count": 101,
   "id": "b86e3908-69bf-4fa6-8aec-9c30f3e6bace",
   "metadata": {},
   "outputs": [
    {
     "name": "stdout",
     "output_type": "stream",
     "text": [
      "Coef:\n",
      " [ 0.70825998  0.12340562  0.0456367  -0.00330528 -0.03748313 -0.97829037\n",
      " -0.93174157] \n",
      "Intercept:\n",
      " 2.0719469373788777\n",
      "MSE: 0.5473264990498138 R2: 0.5823239094526443\n"
     ]
    }
   ],
   "source": [
    "X_train, X_test, y_train, y_test = train_test_split(X, y, test_size=0.2, random_state=42)\n",
    "\n",
    "scaler = StandardScaler()\n",
    "X_train_scaled = scaler.fit_transform(X_train)\n",
    "X_test_scaled = scaler.transform(X_test)\n",
    "\n",
    "model = LinearRegression()\n",
    "model.fit(X_train_scaled, y_train)\n",
    "y_pred = model.predict(X_test_scaled)\n",
    "\n",
    "print(\"Coef:\\n\", model.coef_, \"\\nIntercept:\\n\", model.intercept_)\n",
    "print(\"MSE:\", mean_squared_error(y_test, y_pred), \"R2:\", r2_score(y_test, y_pred))"
   ]
  },
  {
   "cell_type": "markdown",
   "id": "5b6789b3-1294-439c-a5ed-40c8123b553b",
   "metadata": {},
   "source": [
    "При удалении признака AveBedrms получаем наилучшее значение для модели"
   ]
  }
 ],
 "metadata": {
  "kernelspec": {
   "display_name": "Python 3 (ipykernel)",
   "language": "python",
   "name": "python3"
  },
  "language_info": {
   "codemirror_mode": {
    "name": "ipython",
    "version": 3
   },
   "file_extension": ".py",
   "mimetype": "text/x-python",
   "name": "python",
   "nbconvert_exporter": "python",
   "pygments_lexer": "ipython3",
   "version": "3.12.11"
  }
 },
 "nbformat": 4,
 "nbformat_minor": 5
}
